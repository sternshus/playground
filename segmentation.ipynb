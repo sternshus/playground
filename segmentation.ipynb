{
 "metadata": {
  "name": "segmentation"
 },
 "nbformat": 3,
 "nbformat_minor": 0,
 "worksheets": [
  {
   "cells": [
    {
     "cell_type": "code",
     "collapsed": false,
     "input": [
      "import numpy as np\n",
      "import json\n",
      "from collections import defaultdict, namedtuple\n",
      "from operator import itemgetter\n",
      "import cStringIO\n",
      "\n",
      "import data_wrangling_page as dw\n",
      "from data_wrangling_page import getBody\n",
      "from data_wrangling_page import httpGoogle\n",
      "from data_wrangling_page import getSchemaFields\n",
      "\n",
      "from data_wrangling_page import loadTableFromCSV\n",
      "from data_wrangling_page import queryTableData\n",
      "from data_wrangling_page import queryGoogle\n",
      "\n",
      "from datetime import datetime"
     ],
     "language": "python",
     "metadata": {},
     "outputs": [],
     "prompt_number": 1
    },
    {
     "cell_type": "heading",
     "level": 2,
     "metadata": {},
     "source": [
      "Segmentation Script"
     ]
    },
    {
     "cell_type": "code",
     "collapsed": false,
     "input": [
      "#GrspVarTh{PegTx}    = [ 3 3   3 3    1];   %{Qo Qc Fo Fc Tth];\n",
      "#GrspVarTh{Suturing} = [ 4 3   3 3    .1];  %{Qo Qc Fo Fc Tth]; \n",
      "#GrspVarTh{Cutting}  = [ 3 3  1.5 1.5 .5];  %{Qo Qc Fo Fc Tth]; \n",
      "\n",
      "\n",
      "def deltas(column, task_threshold):\n",
      "    deltas = np.diff(column > task_threshold[0]) \n",
      "    idx, = deltas.nonzero() #+ 1 \n",
      "    idx.shape = (-1, 2) #puts idx into a two column matrix\n",
      "    return idx[idx[:, 1] - idx[:, 0] > task_threshold[1]] \n",
      "\n",
      "def get_idx(arr, col):\n",
      "    idx, = np.diff(arr[:, col] > task_threshold[0]).nonzero()\n",
      "    if len(idx)%2==1:\n",
      "        idx = np.delete(idx,-1)\n",
      "    #lidx = lidx.shape(-1,2) #puts idx into a two column matrix (left = start, right = end)\n",
      "    idx = np.append(np.matrix(idx[range(0,len(idx),2)]).transpose(), np.matrix(idx[range(1,len(idx),2)]).transpose() , 1)\n",
      "    return np.squeeze(np.asarray(idx))\n",
      "    \n",
      "    \n",
      "\n",
      "#Perform segmentation for specific task, return binary index of open/closed\n",
      "def segment(args):\n",
      "    import numpy as np #note for parallelization, this has to be here --TODO: framework script to set environment variables and global imports\n",
      "    task, thresholds, kv = args\n",
      "    \n",
      "    task_threshold = thresholds.get(task, (0, 0))\n",
      "\n",
      "    \n",
      "    key = kv[0] #(-1, 2) #puts idx into a two column matrix\n",
      "    arr = np.array(kv[1])\n",
      "    arr = arr.astype(float) #Convert from unicode to float\n",
      "    \n",
      "    lidx = get_idx(arr, 0)\n",
      "    ridx = get_idx(arr, 1)\n",
      "   \n",
      "    #Check to make sure grasp is longer than time thresh:: IndexError: invalid index\n",
      "    try:\n",
      "        left =  lidx[lidx[:, 1] - lidx[:, 0] > task_threshold[1]]\n",
      "        right = ridx[ridx[:, 1] - ridx[:, 0] > task_threshold[1]]\n",
      "    except Exception as e:\n",
      "        return (key, e, lidx, ridx, )\n",
      "    \n",
      "    return (key, left, right)\n",
      "\n"
     ],
     "language": "python",
     "metadata": {},
     "outputs": [],
     "prompt_number": 1
    },
    {
     "cell_type": "heading",
     "level": 2,
     "metadata": {},
     "source": [
      "Functions"
     ]
    },
    {
     "cell_type": "code",
     "collapsed": false,
     "input": [
      "def getData(table_name, task):\n",
      "    query_string = \"SELECT key, FgL, FgR FROM [data.{0}] WHERE task = '{1}'\".format(table_name, task)\n",
      "    rows = queryGoogle(query_string)\n",
      "    data = defaultdict(list)\n",
      "    \n",
      "    for row in rows['rows']:\n",
      "        key = row['f'][0]['v']\n",
      "        fgl = row['f'][1]['v']\n",
      "        fgr = row['f'][2]['v']\n",
      "        data[key].append([fgl, fgr])\n",
      "    return data\n",
      "\n",
      "#x = getData('timdata','cutting')"
     ],
     "language": "python",
     "metadata": {},
     "outputs": [],
     "prompt_number": 2
    },
    {
     "cell_type": "code",
     "collapsed": false,
     "input": [
      "def getQgLR(table_name, task):\n",
      "    query_string = \"SELECT key, QgL, FgL, QgR, FgR FROM [data.{0}] WHERE task = '{1}'\".format(table_name, task)\n",
      "    rows = queryGoogle(query_string)\n",
      "    data = defaultdict(list)\n",
      "    \n",
      "    for row in rows['rows']:\n",
      "        key = row['f'][0]['v']\n",
      "        qgl = row['f'][1]['v']\n",
      "        fgl = row['f'][2]['v']\n",
      "        qgr = row['f'][3]['v']\n",
      "        fgr = row['f'][4]['v']\n",
      "        data[key].append([qgl, qgr])\n",
      "    return data\n",
      "\n",
      "#x = getData('timdata','cutting')"
     ],
     "language": "python",
     "metadata": {},
     "outputs": [],
     "prompt_number": 3
    },
    {
     "cell_type": "code",
     "collapsed": false,
     "input": [
      "def getIndicies(items, task): \n",
      "    arr = np.array(items)\n",
      "    left =  deltaIndicies(arr[:, 0],task)\n",
      "    right = deltaIndicies(arr[:, 1],task)\n",
      "    return (left, right)\n",
      "#x = [[1,2,3], [4,5,6]]  \n",
      "#idxs = getIndicies(x, 'cutting')"
     ],
     "language": "python",
     "metadata": {},
     "outputs": [],
     "prompt_number": 5
    },
    {
     "cell_type": "code",
     "collapsed": false,
     "input": [
      "def deltaIndicies(column, task):\n",
      "        #Provide thresholds for each task\n",
      "    if (task == 'suturing'):\n",
      "        Fth = 1.5 #Threshold for grasp\n",
      "        timeth = 0.1*30 #Time threshold - 30Hz is sampling rate of EDGE\n",
      "    elif (task == 'cutting'):\n",
      "        Fth = 3 \n",
      "        timeth = 0.5*30\n",
      "    elif (task == 'pegtransfer'):\n",
      "        Fth = 3\n",
      "        timeth = 1*30\n",
      "        \n",
      "    deltas = np.diff(column > Fth) \n",
      "    idx, = deltas.nonzero() #+ 1 \n",
      "    idx.shape = (-1, 2) #puts idx into a two column matrix\n",
      "    \n",
      "    return idx[idx[:, 1] - idx[:, 0] > timeth] \n",
      "#x = np.array([[1,2,3,0,0,0,0,3,1,1,1,0,0,0]]) \n",
      "#deltaIndicies(x, 'pegtransfer')"
     ],
     "language": "python",
     "metadata": {},
     "outputs": [],
     "prompt_number": 6
    }
   ],
   "metadata": {}
  }
 ]
}