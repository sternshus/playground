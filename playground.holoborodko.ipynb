{
 "metadata": {
  "name": "playground.holoborodko"
 },
 "nbformat": 3,
 "nbformat_minor": 0,
 "worksheets": [
  {
   "cells": [
    {
     "cell_type": "heading",
     "level": 1,
     "metadata": {},
     "source": [
      "Segmenting Positions by Speed "
     ]
    },
    {
     "cell_type": "markdown",
     "metadata": {},
     "source": [
      "Based on Timothy Kowalewski's Disseration"
     ]
    },
    {
     "cell_type": "markdown",
     "metadata": {},
     "source": [
      "Problem:\n",
      "Calculate the speed of an object based on its position coordinates over time.  Segment the data based on speed threhsolds. "
     ]
    },
    {
     "cell_type": "code",
     "collapsed": false,
     "input": [
      "import numpy\n",
      "import pandas\n",
      "from pprint import pprint"
     ],
     "language": "python",
     "metadata": {},
     "outputs": [],
     "prompt_number": 2
    },
    {
     "cell_type": "markdown",
     "metadata": {},
     "source": [
      "Load data:\n",
      "\n",
      "Data is sorted by time (in original query)\n",
      "Generate left/right tool coordinates."
     ]
    },
    {
     "cell_type": "code",
     "collapsed": false,
     "input": [
      "data_type = {'names' : ['Time', 'xL', 'yL', 'zL', 'xR', 'yR', 'zR']\n",
      "        ,'formats' : [numpy.float, numpy.float, numpy.float, numpy.float, numpy.float, numpy.float, numpy.float]}\n",
      "\n",
      "data = numpy.loadtxt('data/positions.csv', dtype=data_type, skiprows=1, delimiter=',')\n",
      "left = numpy.array(data[['xL','yL', 'zL']]).view(numpy.float).reshape(-1, 3)\n",
      "right = numpy.array(data[['xR','yR', 'zR']]).view(numpy.float).reshape(-1, 3)\n",
      "\n"
     ],
     "language": "python",
     "metadata": {},
     "outputs": [],
     "prompt_number": 35
    },
    {
     "cell_type": "markdown",
     "metadata": {},
     "source": [
      "Calculate the derivative (based on [holborodko](http://www.holoborodko.com/pavel/numerical-methods/numerical-derivative/smooth-low-noise-differentiators/)\n",
      "Calculate the magnitude of each speed vector\n",
      "\n"
     ]
    },
    {
     "cell_type": "code",
     "collapsed": false,
     "input": [
      "dprime = lambda (d): ((322. * (d[2:]-d[0 :-2])[4:-4]) + (256. * (d[4:]-d[0:-4])[3:-3]) + (39. * (d[6:]-d[0:-6])[2:-2]) - (32. * (d[8:]-d[0:-8])[1:-1]) - (11. * (d[10:]-d[0:-10]))) / 1536./.03\n",
      " \n",
      "magnitude = lambda(positions): numpy.sum(dprime(positions)**2, axis=-1)**0.5\n",
      "    "
     ],
     "language": "python",
     "metadata": {},
     "outputs": [
      {
       "output_type": "stream",
       "stream": "stdout",
       "text": [
        "(2981, 3)\n",
        "(2981,)\n"
       ]
      }
     ],
     "prompt_number": 42
    },
    {
     "cell_type": "markdown",
     "metadata": {},
     "source": [
      "magnitude"
     ]
    },
    {
     "cell_type": "code",
     "collapsed": false,
     "input": [],
     "language": "python",
     "metadata": {},
     "outputs": [
      {
       "output_type": "stream",
       "stream": "stdout",
       "text": [
        "array([ 13.02235765,   7.14707034,  22.06992593, ...,   3.0287882 ,\n",
        "         9.00425777,  13.24529179])\n",
        "(2991,)\n",
        "(2981,)\n"
       ]
      }
     ],
     "prompt_number": 19
    },
    {
     "cell_type": "code",
     "collapsed": false,
     "input": [],
     "language": "python",
     "metadata": {},
     "outputs": []
    },
    {
     "cell_type": "code",
     "collapsed": false,
     "input": [],
     "language": "python",
     "metadata": {},
     "outputs": [],
     "prompt_number": 3
    },
    {
     "cell_type": "code",
     "collapsed": false,
     "input": [],
     "language": "python",
     "metadata": {},
     "outputs": []
    }
   ],
   "metadata": {}
  }
 ]
}