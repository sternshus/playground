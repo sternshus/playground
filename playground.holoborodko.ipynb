{
 "metadata": {
  "name": "playground.holoborodko"
 },
 "nbformat": 3,
 "nbformat_minor": 0,
 "worksheets": [
  {
   "cells": [
    {
     "cell_type": "heading",
     "level": 1,
     "metadata": {},
     "source": [
      "Segmenting Positions by Speed "
     ]
    },
    {
     "cell_type": "markdown",
     "metadata": {},
     "source": [
      "Based on Timothy Kowalewski's Disseration"
     ]
    },
    {
     "cell_type": "markdown",
     "metadata": {},
     "source": [
      "Problem:\n",
      "Calculate the speed of an object based on its position coordinates over time.  Segment the data based on speed threhsolds. "
     ]
    },
    {
     "cell_type": "code",
     "collapsed": false,
     "input": [
      "import numpy\n",
      "import pandas\n",
      "from pprint import pprint"
     ],
     "language": "python",
     "metadata": {},
     "outputs": [],
     "prompt_number": 68
    },
    {
     "cell_type": "markdown",
     "metadata": {},
     "source": [
      "Calculate the derivative (based on [holborodko](http://www.holoborodko.com/pavel/numerical-methods/numerical-derivative/smooth-low-noise-differentiators/)).  \n",
      "    \n",
      "Calculate the magnitude of each speed vector.\n",
      "\n"
     ]
    },
    {
     "cell_type": "code",
     "collapsed": false,
     "input": [
      "dprime = lambda (d): ((322. * (d[2:]-d[0 :-2])[4:-4]) + (256. * (d[4:]-d[0:-4])[3:-3]) + (39. * (d[6:]-d[0:-6])[2:-2]) - (32. * (d[8:]-d[0:-8])[1:-1]) - (11. * (d[10:]-d[0:-10]))) / 1536./.03\n",
      " \n",
      "magnitude = lambda(positions): numpy.sum(dprime(positions)**2, axis=-1)**0.5\n",
      "    "
     ],
     "language": "python",
     "metadata": {},
     "outputs": [],
     "prompt_number": 69
    },
    {
     "cell_type": "markdown",
     "metadata": {},
     "source": [
      "return indicies where the difference between two contiguous rows is over the threshold:\n"
     ]
    },
    {
     "cell_type": "code",
     "collapsed": false,
     "input": [
      "def deltas(magnitudes, limena):\n",
      "    threshold, hysterisis = limena\n",
      "    x = numpy.diff(magnitudes > threshold)\n",
      "    idx, = x.nonzero()\n",
      "    #make sure even so start/finish for each entry\n",
      "    #drop last if odd (between not closed --thus invalid)\n",
      "    if len(idx) % 2 != 0:\n",
      "        idx = numpy.delete(idx, -1)\n",
      "    idx.shape = (-1, 2)\n",
      "    return idx[idx[:, 1] - idx[:, 0] > hysterisis]"
     ],
     "language": "python",
     "metadata": {},
     "outputs": [],
     "prompt_number": 74
    },
    {
     "cell_type": "code",
     "collapsed": false,
     "input": [
      "def segmentation(coordinates, limena):\n",
      "    start = 0\n",
      "    end = 1\n",
      "    idx = deltas(magnitude(coordinates))\n",
      "    segments = [idx[coordinates[idx[start]] : coordinates[idx[end]]] for index, x in idx]\n",
      "    \n",
      "\n",
      "    "
     ],
     "language": "python",
     "metadata": {},
     "outputs": []
    },
    {
     "cell_type": "markdown",
     "metadata": {},
     "source": [
      "Load data:\n",
      "\n",
      "Data is sorted by time (in original query)\n",
      "Generate left/right tool coordinates."
     ]
    },
    {
     "cell_type": "code",
     "collapsed": false,
     "input": [
      "data_type = {'names' : ['Time', 'xL', 'yL', 'zL', 'xR', 'yR', 'zR']\n",
      "        ,'formats' : [numpy.float, numpy.float, numpy.float, numpy.float, numpy.float, numpy.float, numpy.float]}\n",
      "\n",
      "data = numpy.loadtxt('data/positions.csv', dtype=data_type, skiprows=1, delimiter=',')\n",
      "left = numpy.array(data[['xL','yL', 'zL']]).view(numpy.float).reshape(-1, 3)\n",
      "right = numpy.array(data[['xR','yR', 'zR']]).view(numpy.float).reshape(-1, 3)\n",
      "\n"
     ],
     "language": "python",
     "metadata": {},
     "outputs": [],
     "prompt_number": 75
    },
    {
     "cell_type": "code",
     "collapsed": true,
     "input": [
      "for idx in left_deltas:\n",
      "    start = 0\n",
      "    end = 1\n",
      "    print idx[start], 'to', idx[end]\n",
      "    #print left[idx[start]], ' to ', left[idx[end]]"
     ],
     "language": "python",
     "metadata": {},
     "outputs": [
      {
       "output_type": "stream",
       "stream": "stdout",
       "text": [
        "123 to 141\n",
        "143 to 170\n",
        "171 to 195\n",
        "203 to 239\n",
        "254 to 323\n",
        "335 to 356\n",
        "369 to 399\n",
        "450 to 477\n",
        "488 to 513\n",
        "515 to 530\n",
        "685 to 708\n",
        "717 to 803\n",
        "925 to 956\n",
        "973 to 1047\n",
        "1169 to 1185\n",
        "1191 to 1240\n",
        "1249 to 1272\n",
        "1322 to 1409\n",
        "1415 to 1461\n",
        "1471 to 1500\n",
        "1626 to 1638\n",
        "1652 to 1670\n",
        "1697 to 1754\n",
        "1795 to 1812\n",
        "1814 to 1840\n",
        "1885 to 1900\n",
        "1901 to 1945\n",
        "1983 to 2062\n",
        "2073 to 2150\n",
        "2187 to 2254\n",
        "2265 to 2316\n",
        "2393 to 2407\n",
        "2434 to 2446\n",
        "2448 to 2466\n",
        "2551 to 2650\n",
        "2665 to 2713\n",
        "2811 to 2841\n"
       ]
      }
     ],
     "prompt_number": 79
    },
    {
     "cell_type": "markdown",
     "metadata": {},
     "source": [
      "I was told that my deltas algorithm returned incorrect values.  Here is a test to verify the differences "
     ]
    },
    {
     "cell_type": "code",
     "collapsed": false,
     "input": [
      "#test using matrix squeezing:\n",
      "def matrix_deltas(magnitudes, limena):\n",
      "    threshold, hysterisis = limena\n",
      "    x = numpy.diff(magnitudes > threshold)\n",
      "    idx, = x.nonzero()\n",
      "    #make sure even so start/finish for each entry\n",
      "    #drop last if odd (between not closed)\n",
      "    if len(idx) % 2 != 0:\n",
      "        idx = numpy.delete(idx, -1)\n",
      "    idx = numpy.append(numpy.matrix(idx[range(0,len(idx),2)]).transpose(), numpy.matrix(idx[range(1,len(idx),2)]).transpose() , 1)\n",
      "    return numpy.squeeze(numpy.asarray(idx))\n",
      "    "
     ],
     "language": "python",
     "metadata": {},
     "outputs": [],
     "prompt_number": 76
    },
    {
     "cell_type": "code",
     "collapsed": false,
     "input": [
      "#test:\n",
      "mleft = magnitude(left)\n",
      "mright = magnitude(right)\n",
      "\n",
      "left_deltas = deltas(mleft, (1.5, 10))\n",
      "left_matrix = matrix_deltas(mleft, (1.5, 10))\n",
      "right_deltas = deltas(mright, (1.5, 10))\n",
      "right_matrix = matrix_deltas(mright, (1.5, 10))\n",
      "lcomp = thresh_mia - thresh_\n",
      "max_diff = numpy.max(numpy.abs(comparison))\n",
      "if max_diff > 1e-6:\n",
      "    print 'proof the diff'\n",
      "else:\n",
      "    print 'the arrays contain same values'\n",
      "print len(left_deltas)"
     ],
     "language": "python",
     "metadata": {},
     "outputs": [
      {
       "output_type": "stream",
       "stream": "stdout",
       "text": [
        "the arrays contain same values\n",
        "37\n"
       ]
      }
     ],
     "prompt_number": 78
    },
    {
     "cell_type": "markdown",
     "metadata": {},
     "source": [
      "There is no difference between the two numpy arrays.  Because I don't coerce the numpy array into the matrix form, sticking with deltas."
     ]
    }
   ],
   "metadata": {}
  }
 ]
}